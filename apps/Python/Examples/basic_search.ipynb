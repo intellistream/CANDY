{
 "cells": [
  {
   "cell_type": "markdown",
   "metadata": {},
   "source": [
    "The following is a more advanced python API version, which exactly matehes with c++, you should enable -DENABLE_PYBIND=ON before compile"
   ]
  },
  {
   "cell_type": "code",
   "execution_count": 10,
   "metadata": {},
   "outputs": [],
   "source": [
    "import sys\n",
    "#Assuming you have PyCandyxxx.so at ../../../\n",
    "#sys.path.append('../../../')\n",
    "import torch\n",
    "import PyCANDYAlgos as candy"
   ]
  },
  {
   "cell_type": "markdown",
   "metadata": {},
   "source": [
    "Create an index by name tag (the same tags as in c++ cases), and then config it."
   ]
  },
  {
   "cell_type": "code",
   "execution_count": 11,
   "metadata": {},
   "outputs": [
    {
     "name": "stdout",
     "output_type": "stream",
     "text": [
      "INFO: Creating an abstract ANNS object...\n",
      "INFO: Creating an abstract ANNS object...\n",
      "INFO: Creating an abstract ANNS object...\n",
      "INFO: No specific setConfig implementation provided.\n"
     ]
    },
    {
     "data": {
      "text/plain": [
       "True"
      ]
     },
     "execution_count": 11,
     "metadata": {},
     "output_type": "execute_result"
    }
   ],
   "source": [
    "idxFlat=candy.createIndex('flat')\n",
    "cfg={'vecDim':4,'metricType':\"IP\"}\n",
    "idxFlat.setConfig(candy.dictToConfigMap(cfg))"
   ]
  },
  {
   "cell_type": "code",
   "execution_count": 13,
   "metadata": {},
   "outputs": [
    {
     "name": "stdout",
     "output_type": "stream",
     "text": [
      "[tensor([6, 4])]\n"
     ]
    }
   ],
   "source": [
    "a = torch.rand(4,4)\n",
    "a2= torch.rand(4,4)\n",
    "idxFlat.insertTensor(a2)\n",
    "b=a[0:1]\n",
    "ru=idxFlat.searchTensor(b,2)\n",
    "print(ru)"
   ]
  },
  {
   "cell_type": "markdown",
   "metadata": {},
   "source": [
    "Now, the idxFlat is the same as C++ class AbstractIndex, the APIs are totally the same as those in c++ cases!"
   ]
  },
  {
   "cell_type": "markdown",
   "metadata": {},
   "source": [
    "This also works for dataloaders"
   ]
  },
  {
   "cell_type": "code",
   "execution_count": 5,
   "metadata": {},
   "outputs": [
    {
     "name": "stdout",
     "output_type": "stream",
     "text": [
      "INFO: Generating [10x4], query size 5\n",
      "tensor([[0.2558, 0.9050, 0.5109, 0.6242],\n",
      "        [0.5704, 0.9277, 0.0232, 0.8905],\n",
      "        [0.9258, 0.3159, 0.1076, 0.4448],\n",
      "        [0.5312, 0.8756, 0.1155, 0.6262],\n",
      "        [0.5665, 0.3706, 0.2453, 0.2599],\n",
      "        [0.9563, 0.8296, 0.9201, 0.3850],\n",
      "        [0.0536, 0.8374, 0.0130, 0.6243],\n",
      "        [0.1989, 0.5926, 0.1954, 0.3914],\n",
      "        [0.1690, 0.4334, 0.5606, 0.9281],\n",
      "        [0.7406, 0.9541, 0.1273, 0.3315]])\n",
      "tensor([[0.1989, 0.5926, 0.1954, 0.3914],\n",
      "        [0.9563, 0.8296, 0.9201, 0.3850],\n",
      "        [0.5704, 0.9277, 0.0232, 0.8905],\n",
      "        [0.0536, 0.8374, 0.0130, 0.6243],\n",
      "        [0.1690, 0.4334, 0.5606, 0.9281]])\n"
     ]
    }
   ],
   "source": [
    "dl=candy.createDataLoader('random')\n",
    "cfg={'vecDim':4,'metricType':\"IP\",'vecVolume':10,'querySize':5}\n",
    "dl.setConfig(candy.dictToConfigMap(cfg))\n",
    "print(dl.getData())\n",
    "print(dl.getQuery())\n"
   ]
  },
  {
   "cell_type": "code",
   "execution_count": 7,
   "metadata": {},
   "outputs": [
    {
     "name": "stdout",
     "output_type": "stream",
     "text": [
      "{}\n"
     ]
    }
   ],
   "source": [
    "a = candy.ConfigMap()\n",
    "a.fromFile('1.csv')\n",
    "c = candy.configMapToDict(a)\n",
    "print(c)"
   ]
  }
 ],
 "metadata": {
  "kernelspec": {
   "display_name": "Python 3",
   "language": "python",
   "name": "python3"
  },
  "language_info": {
   "codemirror_mode": {
    "name": "ipython",
    "version": 3
   },
   "file_extension": ".py",
   "mimetype": "text/x-python",
   "name": "python",
   "nbconvert_exporter": "python",
   "pygments_lexer": "ipython3",
   "version": "3.10.12"
  }
 },
 "nbformat": 4,
 "nbformat_minor": 2
}
